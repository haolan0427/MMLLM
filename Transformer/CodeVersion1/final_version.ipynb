{
 "cells": [
  {
   "cell_type": "code",
   "execution_count": 34,
   "id": "1c47608d-90a4-47ae-b5ee-21909fee9327",
   "metadata": {},
   "outputs": [
    {
     "name": "stderr",
     "output_type": "stream",
     "text": [
      "[nltk_data] Downloading package punkt_tab to /root/nltk_data...\n",
      "[nltk_data]   Package punkt_tab is already up-to-date!\n"
     ]
    }
   ],
   "source": [
    "# 导入包\n",
    "import os\n",
    "import math\n",
    "import copy\n",
    "import time\n",
    "import numpy as np\n",
    "import torch\n",
    "import torch.nn as nn\n",
    "import torch.nn.functional as F\n",
    "\n",
    "\n",
    "import nltk\n",
    "nltk.download(\"punkt_tab\")\n",
    "from nltk.tokenize import word_tokenize # word_tokenize函数\n",
    "\n",
    "from collections import Counter # Counter类\n",
    "from torch.autograd import Variable"
   ]
  },
  {
   "cell_type": "code",
   "execution_count": 90,
   "id": "391115c4-e293-4833-8a0c-16dc2f8df184",
   "metadata": {},
   "outputs": [],
   "source": [
    "# 初始化参数设置\n",
    "UNK = 0  # 未登录词的标识符对应的词典id\n",
    "PAD = 1  # padding占位符对应的词典id\n",
    "BATCH_SIZE = 64  # 每批次训练数据数量\n",
    "EPOCHS = 20  # 训练轮数\n",
    "LAYERS = 6  # transformer中堆叠的encoder和decoder block层数\n",
    "H_NUM = 8  # multihead attention hidden个数\n",
    "D_MODEL = 256  # embedding维数\n",
    "D_FF = 1024  # feed forward第一个全连接层维数\n",
    "DROPOUT = 0.1  # dropout比例\n",
    "MAX_LENGTH = 60  # 最大句子长度"
   ]
  },
  {
   "cell_type": "code",
   "execution_count": 91,
   "id": "da01af27-9515-424b-8899-6728c5678853",
   "metadata": {},
   "outputs": [],
   "source": [
    "DEVICE = torch.device(\"cuda\" if torch.cuda.is_available() else \"cpu\") # 判断使用的是cpu还是gpu"
   ]
  },
  {
   "cell_type": "code",
   "execution_count": 92,
   "id": "9a682ab0-5d83-4617-a48e-971b0e04f434",
   "metadata": {},
   "outputs": [],
   "source": [
    "# 路径设置\n",
    "TRAIN_FILE = 'Dataset/train.txt'  # 训练集数据文件\n",
    "DEV_FILE = \"Dataset/dev.txt\"  # 验证(开发)集数据文件\n",
    "SAVE_FILE = 'Dataset/model.pt'  # 模型保存路径(注意如当前目录无save文件夹需要自己创建)"
   ]
  },
  {
   "cell_type": "code",
   "execution_count": 93,
   "id": "3c00da2f-5fba-47af-a70b-fa0b48864349",
   "metadata": {},
   "outputs": [],
   "source": [
    "# 实现填充：\n",
    "def seq_padding(X, padding=0):\n",
    "    \"\"\"\n",
    "    X是长这样的，是一个batch_size的英文或中文句子索引\n",
    "    batch_en=[en[0],en[1],...,en[batch_size-1]]或batch_cn=[cn[0],cn[1],...,cn[batch_size-1]]\n",
    "        其中en和cn是长这样的，不过里面的单词都被替换成了数字索引\n",
    "        [\n",
    "                ['BOS', 'i', 'love', 'you', 'EOS'],\n",
    "                ['BOS', 'me', 'too', 'EOS'],\n",
    "                ...]\n",
    "    \"\"\"\n",
    "\n",
    "    L = [len(x) for x in X]\n",
    "    \n",
    "    ML = max(L)\n",
    "    \n",
    "    return np.array([\n",
    "        np.concatenate([x, [padding] * (ML - len(x))]) if len(x) < ML else x for x in X\n",
    "    ]) # 以最长的句子为基准，等长的不变，即x；短于其的，补0，即np.concatenate([x, [padding] * (ML - len(x))])\n",
    "\n",
    "# 实现掩码：\n",
    "def subsequent_mask(size):\n",
    "    '''\n",
    "    后续掩码\n",
    "        size是列维度\n",
    "    '''\n",
    "    \n",
    "    attn_shape = (1, size, size)\n",
    "    \n",
    "    subsequent_mask = np.triu(np.ones(attn_shape), k=1).astype('uint8') # 一个三角矩阵，主对角线（左上到右下）以下全为0，包括主对角线\n",
    "    \n",
    "    return torch.from_numpy(subsequent_mask) == 0 # 一个三角矩阵，主对角线以下全为True，包括主对角线\n",
    "\n",
    "# 掩码\n",
    "class Batch:\n",
    "    def __init__(self, src, trg=None, pad=0):\n",
    "        '''\n",
    "        src和trg都是：一个batch_size的英语和中文句子（索引的形式），等长的，都用padding补齐\n",
    "        src.shape=batch_size x ML\n",
    "        trg.shape=batch_size x ML，这两个ML可能是不同的，具体见seq_padding部分\n",
    "        '''\n",
    "        src = torch.from_numpy(src).to(DEVICE).long() # 将numpy数组src转换成pytorch张量，并移动到指定设备，最后将数据类型转换成长整型long\n",
    "        trg = torch.from_numpy(trg).to(DEVICE).long() # 将numpy数组src转换成pytorch张量，并移动到指定设备，最后将数据类型转换成长整型long\n",
    "        self.src = src\n",
    "        \n",
    "        \n",
    "        self.src_mask = (src != pad).unsqueeze(-2) # src_mask用于在处理数据时，忽略padding部分；非padding部分为True，padding部分为False\n",
    "        # src_mask.shape=batch_size x 1 x ML\n",
    "\n",
    "#---------------------------------------------------------以上是对英文数据集的操作--------------------------------------------------------------#\n",
    "\n",
    "\n",
    "        \n",
    "#---------------------------------------------------------以下是对中文数据集的操作--------------------------------------------------------------#\n",
    "        \n",
    "        # 如果输出目标不为空，则需要对decoder要使用到的target句子进行mask\n",
    "        if trg is not None:\n",
    "            self.trg = trg[:, :-1] # 砍去最后一列\n",
    "\n",
    "            self.trg_y = trg[:, 1:] # 砍去第一列\n",
    "            \n",
    "            self.trg_mask = self.make_std_mask(self.trg, pad)\n",
    "            \n",
    "            # 将应输出的target结果中实际的词数进行统计\n",
    "            self.ntokens = (self.trg_y != pad).data.sum()\n",
    "    \n",
    "    # Mask掩码操作\n",
    "    @staticmethod\n",
    "    def make_std_mask(tgt, pad):\n",
    "        tgt_mask = (tgt != pad).unsqueeze(-2) # 忽视padding填充的操作，得到batch_size x 1 x (ML-1)\n",
    "        \n",
    "        # tgt_mask = tgt_mask & Variable(subsequent_mask(tgt.size(-1)).type_as(tgt_mask.data)) # 舍弃Variable类\n",
    "        tgt_mask = tgt_mask & (subsequent_mask(tgt.size(-1)).type_as(tgt_mask.data)) # batch_size x 1 x (ML-1) & 1 x (ML-1) x (ML-1)，由broadcasting机制，得到：batch_size x (ML-1) x (ML-1)\n",
    "        '''\n",
    "        &操作：指明要结合padding掩码和后续掩码(subsequnet_mask)\n",
    "\n",
    "        subsequent_mask后续掩码，得到 1 x (ML-1) x (ML-1) \n",
    "        .type_as将后续掩码得到的结果转换成与tgt_mask一样的数据类型\n",
    "        '''\n",
    "        \n",
    "        return tgt_mask\n",
    "\n",
    "# 数据预处理：\n",
    "class PrepareData:\n",
    "    def __init__(self, train_file, dev_file):\n",
    "\n",
    "        # 读取数据 并分词\n",
    "        self.train_en, self.train_cn = self.load_data(train_file)\n",
    "        self.dev_en, self.dev_cn = self.load_data(dev_file)\n",
    "\n",
    "        # 构建单词表：只用训练集\n",
    "        self.en_word_dict, self.en_total_words, self.en_index_dict = self.build_dict(self.train_en)\n",
    "        self.cn_word_dict, self.cn_total_words, self.cn_index_dict = self.build_dict(self.train_cn)\n",
    "\n",
    "        # id化，并且升序排列\n",
    "        self.train_en, self.train_cn = self.wordToID(self.train_en, self.train_cn, self.en_word_dict, self.cn_word_dict)\n",
    "        self.dev_en, self.dev_cn = self.wordToID(self.dev_en, self.dev_cn, self.en_word_dict, self.cn_word_dict)\n",
    "\n",
    "        # 划分batch + padding + mask，splitBatch函数、seq_padding函数、Batch类构造函数\n",
    "        self.train_data = self.splitBatch(self.train_en, self.train_cn, BATCH_SIZE)\n",
    "        self.dev_data = self.splitBatch(self.dev_en, self.dev_cn, BATCH_SIZE)\n",
    "\n",
    "    def load_data(self, path):\n",
    "        \"\"\"\n",
    "        返回的值en和cn形式如下：\n",
    "        en = [\n",
    "                ['BOS', 'i', 'love', 'you', 'EOS'],\n",
    "                ['BOS', 'me', 'too', 'EOS'],\n",
    "                ...]\n",
    "                \n",
    "        cn = [\n",
    "                ['BOS', '我', '爱', '你', 'EOS'],\n",
    "                ['BOS', '我', '也', '是', 'EOS'],\n",
    "                ...]\n",
    "        \"\"\"\n",
    "       \n",
    "        en = []\n",
    "        cn = []\n",
    "\n",
    "        \n",
    "        with open(path, 'r', encoding='utf-8') as fin:\n",
    "            for line in fin:\n",
    "                list_content = line.split('\\t')\n",
    "                en.append(['BOS'] + word_tokenize(list_content[0]) + ['EOS'])\n",
    "                cn.append(['BOS'] + word_tokenize(\" \".join(list_content[1])) + ['EOS'])\n",
    "\n",
    "        return en, cn\n",
    "    \n",
    "    def build_dict(self, sentences, max_words = 50000):\n",
    "        \"\"\"\n",
    "        sentences长这样\n",
    "        [\n",
    "                ['BOS', 'i', 'love', 'you', 'EOS'],\n",
    "                ['BOS', 'me', 'too', 'EOS'],\n",
    "                ...]\n",
    "\n",
    "        word_list是字典：key值是单词，value值是索引\n",
    "        total_words是字典长度\n",
    "        index_dict是字典：key值是索引，value值是单词\n",
    "        \"\"\"\n",
    "        word_count = Counter() # 是一个字典对象，用来记录出现的单词的次数\n",
    "\n",
    "        # sentences是多行句子\n",
    "        # sentence是一行句子\n",
    "        # s是一行句子中的一个单词\n",
    "        for sentence in sentences:\n",
    "            for s in sentence:\n",
    "                word_count[s] += 1\n",
    "        \n",
    "        \n",
    "        ls = word_count.most_common(max_words) # 只保留最高频的前max_words数的单词构建词典，这个是一个字典（key值是单词、符号；而value值是频数）\n",
    "\n",
    "        total_words = len(ls) + 2 # 统计词典的总词数，之后要加上UNK和PAD两个单词，所以要长度加2\n",
    "\n",
    "        # 创建字典：key值是单词的首字母，value值是索引\n",
    "\n",
    "        word_dict = {w[0]: index + 2 for index, w in enumerate(ls)}\n",
    "\n",
    "        word_dict['UNK'] = UNK\n",
    "        word_dict['PAD'] = PAD\n",
    "        \n",
    "\n",
    "        \n",
    "        # 创建字典：key值是索引，value值是单词\n",
    "        index_dict = {v: k for k, v in word_dict.items()}\n",
    "\n",
    "        return word_dict, total_words, index_dict\n",
    "\n",
    "    def wordToID(self, en, cn, en_dict, cn_dict, sort=True):\n",
    "        \"\"\"\n",
    "        en是长这样的：\n",
    "        [\n",
    "                ['BOS', 'i', 'love', 'you', 'EOS'],\n",
    "                ['BOS', 'me', 'too', 'EOS'],\n",
    "                ...]\n",
    "        ch是长这样的：\n",
    "        [\n",
    "                ['BOS', '我', '爱', '你', 'EOS'],\n",
    "                ['BOS', '我', '也', '是', 'EOS'],\n",
    "                ...]\n",
    "        en_dict是：字典，它的key值是单词，value值是索引\n",
    "        cn_dict是：字典，它的key值是单词，value值是索引\n",
    "\n",
    "        \n",
    "        该方法可以将翻译前(英文)数据和翻译后(中文)数据的单词列表表示的数据\n",
    "        均转为id列表表示的数据\n",
    "        如果sort参数设置为True，则会以翻译前(英文)的句子(单词数)长度排序\n",
    "        以便后续分batch做padding时，同批次各句子需要padding的长度相近减少padding量\n",
    "        \"\"\"\n",
    "        # 计算英文数据条数\n",
    "        length = len(en)\n",
    "        \n",
    "        # w是个单词，从字典中找这个值对应的索引，如果没有这个单词，就返回0，即代表UNK\n",
    "        out_en_ids = [[en_dict.get(w, 0) for w in sent] for sent in en]\n",
    "        out_cn_ids = [[cn_dict.get(w, 0) for w in sent] for sent in cn]\n",
    "\n",
    "        def len_argsort(seq):\n",
    "            \"\"\"\n",
    "            seq是长这样的，不过里面的单词都被替换成了数字索引\n",
    "            [\n",
    "                ['BOS', 'i', 'love', 'you', 'EOS'],\n",
    "                ['BOS', 'me', 'too', 'EOS'],\n",
    "                ...]\n",
    "            按照句子长度排序后，返回排序后原来各句子在数据中的索引下标\n",
    "            \"\"\"\n",
    "            \n",
    "            return sorted(range(len(seq)), key=lambda x: len(seq[x]))\n",
    "\n",
    "        if sort:\n",
    "            sorted_index = len_argsort(out_en_ids) # sorted_index是一个索引列表，这个索引对应的是out_en_ids的行。体现out_en_ids每行从短到长排序。\n",
    "            \n",
    "            # 按照长短重新升序排列\n",
    "            out_en_ids = [out_en_ids[i] for i in sorted_index]\n",
    "            out_cn_ids = [out_cn_ids[i] for i in sorted_index]\n",
    "            \n",
    "        return out_en_ids, out_cn_ids\n",
    "\n",
    "    def splitBatch(self, en, cn, batch_size, shuffle=True):\n",
    "        \"\"\"\n",
    "        en和cn是长这样的，不过里面的单词都被替换成了数字索引\n",
    "        [\n",
    "                ['BOS', 'i', 'love', 'you', 'EOS'],\n",
    "                ['BOS', 'me', 'too', 'EOS'],\n",
    "                ...]\n",
    "        \"\"\"\n",
    "        idx_list = np.arange(0, len(en), batch_size) # ldx=[0, batch_size, batch_size*2, ...]\n",
    "        \n",
    "        if shuffle:\n",
    "            np.random.shuffle(idx_list)\n",
    "        \n",
    "        batch_indexs = []\n",
    "        for idx in idx_list:\n",
    "            batch_indexs.append(np.arange(idx, min(idx + batch_size, len(en)))) \n",
    "            # 在未洗牌时，batch_indexs=[[0,1,...,batch_size-1],[batch_size,1,...,batch_size*2-1],...]\n",
    "        \n",
    "        batches = []\n",
    "        for batch_index in batch_indexs:\n",
    "            batch_en = [en[index] for index in batch_index]\n",
    "            # 取batch_indexs第一个元素时：batch_en=[en[0],en[1],...,en[batch_size-1]]\n",
    "            \n",
    "            batch_cn = [cn[index] for index in batch_index]\n",
    "            # 取batch_indexs第一个元素时，batch_cn=[cn[0],cn[1],...,cn[batch_size-1]]\n",
    "\n",
    "            batch_cn = seq_padding(batch_cn)\n",
    "            batch_en = seq_padding(batch_en)\n",
    "            # batch_cn的每个元素都等长，同时batch_en的每个元素都等长，两者未必等长\n",
    "            \n",
    "            batches.append(Batch(batch_en, batch_cn))\n",
    "            # batches是一个列表，每个元素都是一个Batch类实例，包含了一个batch_size的英语和中文句子（索引的形式）\n",
    "\n",
    "        return batches"
   ]
  },
  {
   "cell_type": "code",
   "execution_count": 94,
   "id": "82816d1f-c125-4616-ad43-239dbb388191",
   "metadata": {},
   "outputs": [
    {
     "name": "stdout",
     "output_type": "stream",
     "text": [
      "src_vocab 50002\n",
      "tgt_vocab 5212\n"
     ]
    }
   ],
   "source": [
    "# 生成训练数据集：\n",
    "data = PrepareData(TRAIN_FILE, DEV_FILE)\n",
    "src_vocab = len(data.en_word_dict) # 英文单词数\n",
    "tgt_vocab = len(data.cn_word_dict) # 中文单词数\n",
    "print(\"src_vocab %d\" % src_vocab)\n",
    "print(\"tgt_vocab %d\" % tgt_vocab)"
   ]
  },
  {
   "cell_type": "markdown",
   "id": "2968a80f-7e7b-4f7a-a67d-8b1e115b8a47",
   "metadata": {},
   "source": [
    "---"
   ]
  },
  {
   "cell_type": "markdown",
   "id": "86ec80f2-455f-41b4-a54a-a51832663929",
   "metadata": {},
   "source": [
    "---"
   ]
  },
  {
   "cell_type": "code",
   "execution_count": 95,
   "id": "397dddff-6606-4afe-b0e7-f4440b517c1e",
   "metadata": {},
   "outputs": [],
   "source": [
    "# 生成词向量：\n",
    "class Embeddings(nn.Module):\n",
    "    def __init__(self, d_model, vocab):\n",
    "        super(Embeddings, self).__init__()\n",
    "\n",
    "        self.lut = nn.Embedding(vocab, d_model)\n",
    "\n",
    "        self.d_model = d_model\n",
    "\n",
    "    def forward(self, x):\n",
    "        return self.lut(x) * math.sqrt(self.d_model)"
   ]
  },
  {
   "cell_type": "markdown",
   "id": "8d87520c-820d-4a11-a6a7-8208cfde7a6d",
   "metadata": {},
   "source": [
    "---"
   ]
  },
  {
   "attachments": {
    "2eebbed2-2bf7-49f0-9a02-b45039ad2c56.png": {
     "image/png": "[encoded data removed]"
    }
   },
   "cell_type": "markdown",
   "id": "fb435b69-3ec4-42e9-ace5-85ccae412210",
   "metadata": {},
   "source": [
    "---\n",
    "![image.png](attachment:2eebbed2-2bf7-49f0-9a02-b45039ad2c56.png)"
   ]
  },
  {
   "cell_type": "code",
   "execution_count": 96,
   "id": "85a48103-0c8b-465e-a65e-7d456197e486",
   "metadata": {},
   "outputs": [],
   "source": [
    "# 加入位置信息：\n",
    "class PositionalEncoding(nn.Module):\n",
    "    def __init__(self, d_model, dropout, max_len=5000):\n",
    "        '''\n",
    "        :max_len 解码器Decoder生成的句子中最多含有的词数目\n",
    "        :d_model 用d_model维度的向量表示一个词\n",
    "        '''\n",
    "        super(PositionalEncoding, self).__init__()\n",
    "        self.dropout = nn.Dropout(p=dropout)\n",
    "        \n",
    "        pe = torch.zeros(max_len, d_model, device=DEVICE) # pe为[max_len, d_model]\n",
    "        position = torch.arange(0, max_len, device=DEVICE).unsqueeze(1) # position为[max_len-1, 1]\n",
    "\n",
    "        div_term = torch.exp((torch.arange(0, d_model, 2,  dtype=torch.float, device=DEVICE) *\n",
    "                             -(math.log(10000.0)/d_model))) # 计算分母\n",
    "        # torch.arange(0, d_model, 2,  dtype=torch.float, device=DEVICE)就是2i\n",
    "        # -(math.log(10000.0)/d_model)就是-ln(10000.0)/d_model=ln(1/10000.0)/d_model\n",
    "        # 原式=e^[2i * ln(1/10000.0) / d_model] = {e^[ln(1/10000.0)]}^(2i / d_model) = (1/10000.0)^(2i / d_model) = 1/[10000.0^(2i / d_model)]\n",
    "        \n",
    "        pe[:, 0::2] =  torch.sin(position.float() * div_term) # 即PE(pos, 2i)\n",
    "        pe[:, 1::2] =  torch.cos(position.float() * div_term) # 即PE(pos, 2i+1)\n",
    "        \n",
    "        pe = pe.unsqueeze(0) # pe为[1, max_len, d_model]\n",
    "        self.register_buffer('pe', pe)\n",
    "\n",
    "    def forward(self, x):\n",
    "        '''\n",
    "        :x [1, seq_len, d_model]，seq_len（就是一个句子中含有多少个词）往往小于max_len\n",
    "        '''\n",
    "        x = x + Variable(self.pe[:, :x.size(1)], requires_grad=False)\n",
    "        return self.dropout(x)"
   ]
  },
  {
   "cell_type": "markdown",
   "id": "99d1bf68-8bff-4b6a-9d8b-b092ade67d63",
   "metadata": {},
   "source": [
    "---"
   ]
  },
  {
   "cell_type": "markdown",
   "id": "5bdbf335-d769-4a19-938a-7f6338df8f33",
   "metadata": {},
   "source": [
    "---\n",
    "得到注意力值：\n",
    "\n",
    "$Attention(Q,K,V)=softmax(\\frac{QK^T}{\\sqrt{d_k}})V$"
   ]
  },
  {
   "cell_type": "code",
   "execution_count": 97,
   "id": "44818316-5ba4-4f76-9c9a-ca1b6109311e",
   "metadata": {},
   "outputs": [],
   "source": [
    "# 实现注意力机制：\n",
    "def attention(query, key, value, mask=None, dropout=None):\n",
    "    d_k = query.size(-1) \n",
    "    scores = torch.matmul(query, key.transpose(-2, -1)) / math.sqrt(d_k)\n",
    "\n",
    "    # 加入掩码mask操作：\n",
    "    if mask is not None:\n",
    "        mask.cuda()\n",
    "        scores = scores.masked_fill(mask == 0, -1e9)\n",
    "        \n",
    "    p_attn = F.softmax(scores, dim = -1)\n",
    "\n",
    "    # 加入dropout操作：\n",
    "    if dropout is not None:\n",
    "        p_attn = dropout(p_attn)\n",
    "        \n",
    "    return torch.matmul(p_attn, value), p_attn # 返回注意力值，概率"
   ]
  },
  {
   "cell_type": "markdown",
   "id": "f19ab51e-def9-4d93-a02e-1af9501ef6e8",
   "metadata": {},
   "source": [
    "---"
   ]
  },
  {
   "attachments": {
    "d7ad439c-13ad-4250-973d-ab79d6d1b2da.png": {
     "image/png": "[encoded data removed]"
    }
   },
   "cell_type": "markdown",
   "id": "b1c5d8e2-af15-42aa-8e9a-7e32477d3062",
   "metadata": {},
   "source": [
    "---\n",
    "![image.png](attachment:d7ad439c-13ad-4250-973d-ab79d6d1b2da.png)"
   ]
  },
  {
   "cell_type": "code",
   "execution_count": 98,
   "id": "b66a837e-5635-4326-bd21-e5c4e9f38a3a",
   "metadata": {},
   "outputs": [],
   "source": [
    "# 实现多头注意力机制：\n",
    "class MultiHeadedAttention(nn.Module):\n",
    "    def __init__(self, h, d_model, dropout=0.1):\n",
    "        '''\n",
    "        :h 头数，论文中取得8\n",
    "        :d_model 输入的维度，取256\n",
    "        :dropout\n",
    "        '''\n",
    "        super(MultiHeadedAttention, self).__init__()\n",
    "        assert d_model % h == 0 # 要确保输入的维度能被头数整除\n",
    "        self.d_k = d_model // h # 投影维度\n",
    "        self.h = h # 头数\n",
    "\n",
    "        # 有四次投影，或者说四次线性变换\n",
    "        self.linear_query = nn.Linear(d_model, d_model)\n",
    "        self.linear_key = nn.Linear(d_model, d_model)\n",
    "        self.linear_value = nn.Linear(d_model, d_model)\n",
    "        self.linear_out = nn.Linear(d_model, d_model)\n",
    "        \n",
    "        self.attn = None\n",
    "        \n",
    "        self.dropout = nn.Dropout(p=dropout)\n",
    "\n",
    "    def forward(self, query, key, value, mask=None):\n",
    "        '''\n",
    "        :query [b, 每个样本最多有多少词, 用512维度向量表示一个词]\n",
    "        :key\n",
    "        :value\n",
    "        :mask\n",
    "        '''\n",
    "        # 掩码mask操作：\n",
    "        if mask is not None:\n",
    "            mask = mask.unsqueeze(1)\n",
    "            \n",
    "        nbatches = query.size(0) # 得到batch_size，因为多头后面要做切分\n",
    "\n",
    "        query = self.linear_query(query).view(nbatches, -1, self.h, self.d_k).transpose(1, 2)\n",
    "        key = self.linear_key(key).view(nbatches, -1, self.h, self.d_k).transpose(1, 2)\n",
    "        value = self.linear_value(value).view(nbatches, -1, self.h, self.d_k).transpose(1, 2)\n",
    "        # 转变成：[b, self.h=8, 每个样本最多有多少词=the element number of query // batch_size, self.d_k=32]，self.h x self.d_k = 256\n",
    "\n",
    "        \n",
    "        x, self.attn = attention(query, key, value, mask=mask, dropout=self.dropout) # 调用注意力机制函数，得到注意力值和注意力概率\n",
    "        \n",
    "        x = x.transpose(1, 2).contiguous().view(nbatches, -1, self.h * self.d_k) # contiguous()实现的是拼接\n",
    "        # 转变回：[b, 每个样本最多有多少词, self.h x self.d_k = 256]\n",
    "\n",
    "        return self.linear_out(x)"
   ]
  },
  {
   "cell_type": "markdown",
   "id": "6059f5e3-ba49-49a3-9793-abac6f0fc5d2",
   "metadata": {},
   "source": [
    "---"
   ]
  },
  {
   "cell_type": "markdown",
   "id": "90181a1b-f54d-4464-adc8-f6c9e0588220",
   "metadata": {},
   "source": [
    "---\n",
    "Layer Normalization公式：\n",
    "\n",
    "$y=\\frac{x-E(x)}{\\sqrt{Var(x)+\\epsilon}} \\times \\gamma + \\beta$，其中$\\gamma$和$\\beta$是学习参数"
   ]
  },
  {
   "cell_type": "code",
   "execution_count": 99,
   "id": "4a08f0b9-aa8d-4cf1-9dc1-baf78c641bcd",
   "metadata": {},
   "outputs": [],
   "source": [
    "# 实现Layer Normalization操作：\n",
    "class LayerNorm(nn.Module):\n",
    "    def __init__(self, features, eps=1e-6):\n",
    "        super(LayerNorm, self).__init__()\n",
    "        self.a_2 = nn.Parameter(torch.ones(features)) # gamma\n",
    "        self.b_2 = nn.Parameter(torch.zeros(features)) # beta\n",
    "        self.eps = eps\n",
    "\n",
    "    def forward(self, x):\n",
    "        mean = x.mean(-1, keepdim = True)\n",
    "        std = x.std(-1, keepdim = True)\n",
    "        # 这里的mean和std都是按照每个样本来操作的，得到的结果是一个向量，它的维度是：batch_size x 1\n",
    "\n",
    "        return  self.a_2 * ( x - mean) / torch.sqrt(std ** 2 + self.eps) + self.b_2 "
   ]
  },
  {
   "cell_type": "markdown",
   "id": "d60398b8-f90d-4d52-8450-65e2d40f100b",
   "metadata": {},
   "source": [
    "---"
   ]
  },
  {
   "cell_type": "markdown",
   "id": "c2e1c18b-281a-4c2d-8fe2-121720f8c326",
   "metadata": {},
   "source": [
    "---\n",
    "\n",
    "That is, the output of each sub-layer is LayerNorm(x+Sublayer(x)) 对应：self.norm(x+sublayer(x))\n",
    "\n",
    "We apply dropout to the output of each sub-layer 对应：self.dropout($\\cdots$)"
   ]
  },
  {
   "cell_type": "code",
   "execution_count": 100,
   "id": "4cefe737-f083-4608-b2be-3fdc9fdc5161",
   "metadata": {},
   "outputs": [],
   "source": [
    "# 无论是Encoder还是Decoder的子层，都是用的这个类 \n",
    "class SublayerConnection(nn.Module):\n",
    "    def __init__(self, size, dropout):\n",
    "        super(SublayerConnection, self).__init__()\n",
    "        self.norm = LayerNorm(size) # Layer Normalization\n",
    "        self.dropout = nn.Dropout(dropout) # Residual Dropout\n",
    "\n",
    "    def forward(self, x, sublayer):\n",
    "        return self.dropout(self.norm(x+sublayer(x))) # 串接子层"
   ]
  },
  {
   "cell_type": "markdown",
   "id": "ac968fdb-63fa-4b52-b5ab-a87ec4c90878",
   "metadata": {},
   "source": [
    "---"
   ]
  },
  {
   "cell_type": "markdown",
   "id": "171ec9f9-79d4-4f2d-90d1-e6b08be844ff",
   "metadata": {},
   "source": [
    "---\n",
    "$FFN(x)=max(0, xW_1+b_1)W_2+b_2$\n",
    "\n",
    "$b_1$和$b_2$可以略去"
   ]
  },
  {
   "cell_type": "code",
   "execution_count": 101,
   "id": "c09cdb9d-8aa6-4f8a-8554-e8e93a0be390",
   "metadata": {},
   "outputs": [],
   "source": [
    "# 全连接层：\n",
    "class PositionwiseFeedForward(nn.Module):\n",
    "    def __init__(self, d_model, d_ff, dropout=0.1):\n",
    "        super(PositionwiseFeedForward, self).__init__()\n",
    "        self.w_1 = nn.Linear(d_model, d_ff)\n",
    "        self.w_2 = nn.Linear(d_ff, d_model)\n",
    "        self.dropout = nn.Dropout(dropout)\n",
    "\n",
    "    def forward(self, x):\n",
    "        return self.w_2(self.dropout(F.relu(self.w_1(x))))"
   ]
  },
  {
   "cell_type": "markdown",
   "id": "531a1437-7271-4519-a167-5c3f575b28c0",
   "metadata": {},
   "source": [
    "---"
   ]
  },
  {
   "cell_type": "markdown",
   "id": "c0f84dc6-4249-40cf-a95d-953c2c0d0dc6",
   "metadata": {},
   "source": [
    "---"
   ]
  },
  {
   "cell_type": "code",
   "execution_count": 102,
   "id": "b7fbd2e1-f6db-4b72-8b94-01aaff99ad28",
   "metadata": {},
   "outputs": [],
   "source": [
    "# 实现Decoder最后的Linear层和softmax层：\n",
    "class Generator(nn.Module):\n",
    "    def __init__(self, d_model, vocab):\n",
    "        super(Generator, self).__init__()\n",
    "        self.proj = nn.Linear(d_model, vocab)\n",
    "\n",
    "    def forward(self, x):\n",
    "        return F.log_softmax(self.proj(x), dim=-1)"
   ]
  },
  {
   "cell_type": "markdown",
   "id": "1de3ceef-6f25-4e0e-bffa-16948b8f8b04",
   "metadata": {},
   "source": [
    "---"
   ]
  },
  {
   "cell_type": "markdown",
   "id": "adeba67d-e708-47f8-a5a3-5a271498fc1d",
   "metadata": {},
   "source": [
    "---"
   ]
  },
  {
   "cell_type": "code",
   "execution_count": 103,
   "id": "4fc568bd-ac83-48d9-9afd-a74bbf4fa953",
   "metadata": {},
   "outputs": [],
   "source": [
    "# 克隆子层：\n",
    "def clones(module, N):\n",
    "    return nn.ModuleList([copy.deepcopy(module) for _ in range(N)])"
   ]
  },
  {
   "cell_type": "markdown",
   "id": "0ed9ca4f-f7aa-43f7-84e9-0b7f97a93807",
   "metadata": {},
   "source": [
    "---"
   ]
  },
  {
   "cell_type": "markdown",
   "id": "4c231e29-a609-4aaa-becc-7e1710f00f8c",
   "metadata": {},
   "source": [
    "---"
   ]
  },
  {
   "cell_type": "code",
   "execution_count": 104,
   "id": "226beefd-8d66-434d-9aee-e1f048cc3782",
   "metadata": {},
   "outputs": [],
   "source": [
    "# 构造一层Encoder：\n",
    "class EncoderLayer(nn.Module):\n",
    "    def __init__(self, size, self_attn, feed_forward, dropout):\n",
    "        super(EncoderLayer, self).__init__()\n",
    "        self.self_attn = self_attn\n",
    "        self.feed_forward = feed_forward\n",
    "        self.sublayer = clones(SublayerConnection(size, dropout), 2)\n",
    "        self.size = size\n",
    "\n",
    "\n",
    "    def forward(self, x, mask):\n",
    "        x = self.sublayer[0](x, lambda x: self.self_attn(x, x, x, mask))\n",
    "        return self.sublayer[1](x, self.feed_forward)"
   ]
  },
  {
   "cell_type": "code",
   "execution_count": 105,
   "id": "88d5e8fa-f172-4ce1-9c68-aeb12e2c4f28",
   "metadata": {},
   "outputs": [],
   "source": [
    "# 构造完整的Encoder：\n",
    "class Encoder(nn.Module):\n",
    "    def __init__(self, layer, N):\n",
    "        super(Encoder, self).__init__()\n",
    "        self.layers = clones(layer, N)\n",
    "\n",
    "    def forward(self, x, mask):\n",
    "        for layer in self.layers:\n",
    "            x = layer(x, mask)\n",
    "        return x"
   ]
  },
  {
   "cell_type": "markdown",
   "id": "11a36eb6-b19a-41d9-9be6-e1679459f357",
   "metadata": {},
   "source": [
    "---"
   ]
  },
  {
   "cell_type": "markdown",
   "id": "89ddd439-f59d-492e-b634-f54978f415ae",
   "metadata": {},
   "source": [
    "---"
   ]
  },
  {
   "cell_type": "code",
   "execution_count": 106,
   "id": "e18789e9-38d9-4b6c-8ee1-fc6258e5508a",
   "metadata": {},
   "outputs": [],
   "source": [
    "# 构造一层Decoder：\n",
    "class DecoderLayer(nn.Module):\n",
    "    def __init__(self, size, self_attn, src_attn, feed_forward, dropout):\n",
    "        super(DecoderLayer, self).__init__()\n",
    "        # self.size = size\n",
    "        self.self_attn = self_attn\n",
    "        self.src_attn = src_attn\n",
    "        self.feed_forward = feed_forward\n",
    "        self.sublayer = clones(SublayerConnection(size, dropout), 3)\n",
    "\n",
    "    def forward(self, x, memory, src_mask, tgt_mask):\n",
    "        m = memory\n",
    "        x = self.sublayer[0](x, lambda x: self.self_attn(x, x, x, tgt_mask))\n",
    "        x = self.sublayer[1](x, lambda x: self.src_attn(x, m, m, src_mask))\n",
    "        return self.sublayer[2](x, self.feed_forward)"
   ]
  },
  {
   "cell_type": "code",
   "execution_count": 107,
   "id": "075566f4-a8d7-4c97-9ab5-be1ac617923c",
   "metadata": {},
   "outputs": [],
   "source": [
    "# 构造完整的Decoder：\n",
    "class Decoder(nn.Module):\n",
    "    def __init__(self, layer, N):\n",
    "        super(Decoder, self).__init__()\n",
    "        self.layers = clones(layer, N)\n",
    "        \n",
    "    def forward(self, x, memory, src_mask, tgt_mask):\n",
    "        for layer in self.layers:\n",
    "            x = layer(x, memory, src_mask, tgt_mask)\n",
    "        return x"
   ]
  },
  {
   "cell_type": "markdown",
   "id": "ab17a689-63ce-4c35-90fa-9f84a7bc1a73",
   "metadata": {},
   "source": [
    "---"
   ]
  },
  {
   "cell_type": "markdown",
   "id": "e03ed433-cba0-451e-87c2-32e214776991",
   "metadata": {},
   "source": [
    "---"
   ]
  },
  {
   "cell_type": "code",
   "execution_count": 108,
   "id": "0017300e-9e43-4fff-a411-74a8e454f5b9",
   "metadata": {},
   "outputs": [],
   "source": [
    "# Transformer类：\n",
    "class Transformer(nn.Module):\n",
    "    def __init__(self, encoder, decoder, src_embed, tgt_embed, generator):\n",
    "        super(Transformer, self).__init__()\n",
    "        self.encoder = encoder\n",
    "        self.decoder = decoder\n",
    "        self.src_embed = src_embed\n",
    "        self.tgt_embed = tgt_embed\n",
    "        self.generator = generator \n",
    "\n",
    "    def encode(self, src, src_mask):\n",
    "        return self.encoder(self.src_embed(src), src_mask)\n",
    "\n",
    "    def decode(self, memory, src_mask, tgt, tgt_mask):\n",
    "        return self.decoder(self.tgt_embed(tgt), memory, src_mask, tgt_mask)\n",
    "\n",
    "    def forward(self, src, tgt, src_mask, tgt_mask):\n",
    "        # return self.generator(self.decode(self.encode(src, src_mask), src_mask, tgt, tgt_mask))\n",
    "        return self.decode(self.encode(src, src_mask), src_mask, tgt, tgt_mask)"
   ]
  },
  {
   "cell_type": "code",
   "execution_count": 109,
   "id": "2dfb60af-271b-4ca9-911f-1bc2d323bb84",
   "metadata": {},
   "outputs": [],
   "source": [
    "# 构造模型函数：\n",
    "def make_model(src_vocab, tgt_vocab, N=6, d_model=512, d_ff=2048, h = 8, dropout=0.1):\n",
    "    c = copy.deepcopy # 改名，深拷贝函数\n",
    "    attn = MultiHeadedAttention(h, d_model).to(DEVICE) # 多注意力机制实例\n",
    "    ff = PositionwiseFeedForward(d_model, d_ff, dropout).to(DEVICE) # 子层中的全连接层实例\n",
    "    position = PositionalEncoding(d_model, dropout).to(DEVICE) # 位置信息实例\n",
    "    model = Transformer(\n",
    "        Encoder(EncoderLayer(d_model, c(attn), c(ff), dropout).to(DEVICE), N).to(DEVICE),\n",
    "        Decoder(DecoderLayer(d_model, c(attn), c(attn), c(ff), dropout).to(DEVICE), N).to(DEVICE),\n",
    "        nn.Sequential(Embeddings(d_model, src_vocab).to(DEVICE), c(position)),\n",
    "        nn.Sequential(Embeddings(d_model, tgt_vocab).to(DEVICE), c(position)),\n",
    "        Generator(d_model, tgt_vocab)).to(DEVICE)\n",
    "    for p in model.parameters(): # 权重初始化——Xavier初始化\n",
    "        if p.dim() > 1:\n",
    "            nn.init.xavier_uniform_(p)\n",
    "    return model.to(DEVICE)"
   ]
  },
  {
   "cell_type": "code",
   "execution_count": 110,
   "id": "48b3300e-8e15-41c5-abac-bddaf4d1f935",
   "metadata": {},
   "outputs": [],
   "source": [
    "# 创建一个Transformer模型：\n",
    "model = make_model(\n",
    "                    src_vocab, \n",
    "                    tgt_vocab, \n",
    "                    LAYERS, \n",
    "                    D_MODEL, \n",
    "                    D_FF,\n",
    "                    H_NUM,\n",
    "                    DROPOUT\n",
    "                )"
   ]
  },
  {
   "cell_type": "markdown",
   "id": "e24334c2-bd7e-4ed3-8104-31ffb9a153b4",
   "metadata": {},
   "source": [
    "---"
   ]
  },
  {
   "cell_type": "markdown",
   "id": "88331208-5b95-4dff-8e63-343c72c55347",
   "metadata": {},
   "source": [
    "---\n",
    "提高了困惑度，模型变得更加不确定，提高了准确性和$BLEU$分数"
   ]
  },
  {
   "cell_type": "code",
   "execution_count": 111,
   "id": "b85965a6-1041-486c-8daf-223cfecb42ea",
   "metadata": {},
   "outputs": [],
   "source": [
    "# 对标签进行平滑处理：\n",
    "class LabelSmoothing(nn.Module):\n",
    "    def __init__(self, size, padding_idx, smoothing=0.0):\n",
    "        super(LabelSmoothing, self).__init__()\n",
    "        self.criterion = nn.KLDivLoss(reduction='sum') # KLdivloss（KL散度损失）\n",
    "        self.padding_idx = padding_idx\n",
    "        self.smoothing = smoothing\n",
    "        self.size = size\n",
    "\n",
    "    def forward(self, lprobs, target):\n",
    "        true_dist = torch.full_like(lprobs, self.smoothing / (self.size - 2))\n",
    "        true_dist.scatter_(1, target.unsqueeze(1), 1.0 - self.smoothing)\n",
    "        true_dist[:, self.padding_idx] = 0\n",
    "        return self.criterion(lprobs, true_dist)"
   ]
  },
  {
   "cell_type": "markdown",
   "id": "e9a22a82-d16b-4f16-bcf9-f32f847cb31e",
   "metadata": {},
   "source": [
    "---"
   ]
  },
  {
   "cell_type": "markdown",
   "id": "53f4c8ed-f84b-4a5a-966e-622de6ee4b73",
   "metadata": {},
   "source": [
    "---\n",
    "\n",
    "$l_{rata}=factor \\cdot d^{-0.5}_{model} \\cdot min(step\\_num^{-0.5}, \\, step\\_num \\cdot warmup\\_steps^{-1,5})$"
   ]
  },
  {
   "cell_type": "code",
   "execution_count": 112,
   "id": "5fc24ed2-b8b6-483b-853d-5244bedd487d",
   "metadata": {},
   "outputs": [],
   "source": [
    "# 自定义的学习率调节器类，有优化器和动态学习率调整的功能\n",
    "class NoamOpt:\n",
    "    def __init__(self, model_size, factor, warmup, optimizer):\n",
    "        self.optimizer = optimizer # 优化器\n",
    "        self._step = 0 \n",
    "        self.warmup = warmup # 学习率预热步数\n",
    "        self.factor = factor # 学习率的缩放因子\n",
    "        self.model_size = model_size # 模型的维度\n",
    "        self._rate = 0\n",
    "        \n",
    "    def step(self):\n",
    "        self._step += 1 # 执行一次，_step加1\n",
    "        rate = self.rate() # 得到当前的学习率\n",
    "        for p in self.optimizer.param_groups: # 将当前的学习率用于优化器参数组\n",
    "            p['lr'] = rate\n",
    "        self._rate = rate\n",
    "        self.optimizer.step() # 参数更新\n",
    "        \n",
    "    def rate(self, step = None):\n",
    "        if step is None:\n",
    "            step = self._step\n",
    "        return self.factor * (self.model_size ** (-0.5) * min(step ** (-0.5), step * self.warmup ** (-1.5)))"
   ]
  },
  {
   "cell_type": "markdown",
   "id": "76c28283-f64a-4c58-9102-f9feb2f92ccb",
   "metadata": {},
   "source": [
    "---"
   ]
  },
  {
   "cell_type": "markdown",
   "id": "736280b3-5520-4e62-84be-ef3e964f3b63",
   "metadata": {},
   "source": [
    "---"
   ]
  },
  {
   "cell_type": "code",
   "execution_count": 113,
   "id": "eab64bae-fa73-4817-9963-c35d7267fdbb",
   "metadata": {},
   "outputs": [],
   "source": [
    "# 计算损失，计算模型输出与目标之间的损失，并执行反向传播和优化步骤\n",
    "class SimpleLossCompute:\n",
    "    def __init__(self, generator, criterion, opt=None):\n",
    "        self.generator = generator # 这是一个函数或是模型：将Transformer模型的输出转换为适合计算损失的格式\n",
    "        self.criterion = criterion # 损失函数，如nn.CrossEntropyLoss\n",
    "        self.opt = opt # 优化器\n",
    "        \n",
    "    def __call__(self, x, y, norm):\n",
    "        '''\n",
    "        :x Transformer的输出\n",
    "        :y 真实标签\n",
    "        :norm 用于归一化损失的值，通常是batch_size\n",
    "        '''\n",
    "        x = self.generator(x)\n",
    "        loss = self.criterion(x.contiguous().view(-1, x.size(-1)), \n",
    "                              y.contiguous().view(-1)) / norm\n",
    "        loss.backward()\n",
    "        if self.opt is not None:\n",
    "            self.opt.step()\n",
    "            self.opt.optimizer.zero_grad()\n",
    "        return loss.data.item() * norm.float()"
   ]
  },
  {
   "cell_type": "markdown",
   "id": "69959be1-ab03-4e46-bd37-b11ea96a8b92",
   "metadata": {},
   "source": [
    "---"
   ]
  },
  {
   "cell_type": "markdown",
   "id": "fc90b711-e259-46ae-9346-b89e5eadee7d",
   "metadata": {},
   "source": [
    "---"
   ]
  },
  {
   "cell_type": "code",
   "execution_count": 114,
   "id": "da20310b-c9e0-4b6f-b148-f6ce84f6923a",
   "metadata": {},
   "outputs": [],
   "source": [
    "# 在一个Epoch中的训练：主要用来记录损失\n",
    "def run_epoch(data, model, loss_compute, epoch):\n",
    "    '''\n",
    "    :data 训练集\n",
    "    :model Transformer模型\n",
    "    :loss_compute 计算损失的函数\n",
    "    :epoch 轮次\n",
    "    '''\n",
    "    start = time.time() # 记录当前时间，用于计算每个批次的处理时间\n",
    "    total_tokens = 0. # 记录处理的总token数量\n",
    "    total_loss = 0. # 记录总损失\n",
    "    tokens = 0. # 记录当前批次的token数量\n",
    "\n",
    "    for i , batch in enumerate(data):\n",
    "        out = model(batch.src, batch.trg, batch.src_mask, batch.trg_mask) # Transformer输出值\n",
    "        loss = loss_compute(out, batch.trg_y, batch.ntokens) #计算损失，loss是SimpleLossCompute实例，callable\n",
    "\n",
    "        total_loss += loss\n",
    "        total_tokens += batch.ntokens\n",
    "        tokens += batch.ntokens\n",
    "\n",
    "        if i % 50 == 1: # 打印消息\n",
    "            elapsed = time.time() - start\n",
    "            print(\"Epoch %d Batch: %d Loss: %f Tokens per Sec: %fs\" % (epoch, i - 1, loss / batch.ntokens, (tokens.float() / elapsed / 1000.)))\n",
    "            start = time.time()\n",
    "            tokens = 0\n",
    "\n",
    "    return total_loss / total_tokens"
   ]
  },
  {
   "cell_type": "code",
   "execution_count": 115,
   "id": "fae04937-f23c-4f5e-a47e-ff25bcc8e5d4",
   "metadata": {},
   "outputs": [],
   "source": [
    "# 训练函数：\n",
    "def train(data, model, criterion, optimizer):\n",
    "    '''\n",
    "    :data 训练集+验证集\n",
    "    :model Transformer模型\n",
    "    :criterion 损失函数\n",
    "    :optimizer 优化器\n",
    "    '''\n",
    "    best_dev_loss = 1e5\n",
    "    \n",
    "    for epoch in range(EPOCHS):\n",
    "        model.train() # 将模型设置为训练模式，启动dropout和batch normalization等训练特性\n",
    "        run_epoch(data.train_data, model, SimpleLossCompute(model.generator, criterion, optimizer), epoch)\n",
    "        model.eval() # 将模式设置为评估模式，禁止dropout和batch normalization等训练特性\n",
    "        print('>>>>> Evaluate')\n",
    "        dev_loss = run_epoch(data.dev_data, model, SimpleLossCompute(model.generator, criterion, None), epoch)\n",
    "        print('<<<<< Evaluate loss: %f' % dev_loss)\n",
    "        if dev_loss < best_dev_loss:\n",
    "            torch.save(model.state_dict(), SAVE_FILE)\n",
    "            best_dev_loss = dev_loss\n",
    "        \n",
    "        \n",
    "        print()"
   ]
  },
  {
   "cell_type": "markdown",
   "id": "77bce655-7a36-42a9-a059-ebfb508fd1ae",
   "metadata": {},
   "source": [
    "---"
   ]
  },
  {
   "cell_type": "markdown",
   "id": "ea192634-c466-44b3-bef4-cfecb3f58431",
   "metadata": {},
   "source": [
    "---"
   ]
  },
  {
   "cell_type": "code",
   "execution_count": 116,
   "id": "baa7889b-474e-4403-887d-4e3c3206e211",
   "metadata": {},
   "outputs": [
    {
     "name": "stdout",
     "output_type": "stream",
     "text": [
      ">>>>>>> start train\n",
      "Epoch 0 Batch: 0 Loss: 8.606107 Tokens per Sec: 6.335171s\n",
      "Epoch 0 Batch: 50 Loss: 8.210087 Tokens per Sec: 15.376044s\n"
     ]
    },
    {
     "ename": "KeyboardInterrupt",
     "evalue": "",
     "output_type": "error",
     "traceback": [
      "\u001b[0;31m---------------------------------------------------------------------------\u001b[0m",
      "\u001b[0;31mKeyboardInterrupt\u001b[0m                         Traceback (most recent call last)",
      "Cell \u001b[0;32mIn[116], line 7\u001b[0m\n\u001b[1;32m      4\u001b[0m criterion \u001b[38;5;241m=\u001b[39m LabelSmoothing(tgt_vocab, padding_idx \u001b[38;5;241m=\u001b[39m \u001b[38;5;241m0\u001b[39m, smoothing\u001b[38;5;241m=\u001b[39m \u001b[38;5;241m0.0\u001b[39m) \u001b[38;5;66;03m# LabelSmoothing实例\u001b[39;00m\n\u001b[1;32m      5\u001b[0m optimizer \u001b[38;5;241m=\u001b[39m NoamOpt(D_MODEL, \u001b[38;5;241m1\u001b[39m, \u001b[38;5;241m2000\u001b[39m, torch\u001b[38;5;241m.\u001b[39moptim\u001b[38;5;241m.\u001b[39mAdam(model\u001b[38;5;241m.\u001b[39mparameters(), lr\u001b[38;5;241m=\u001b[39m\u001b[38;5;241m0\u001b[39m, betas\u001b[38;5;241m=\u001b[39m(\u001b[38;5;241m0.9\u001b[39m,\u001b[38;5;241m0.98\u001b[39m), eps\u001b[38;5;241m=\u001b[39m\u001b[38;5;241m1e-9\u001b[39m)) \u001b[38;5;66;03m# 优化器NoamOpt实例\u001b[39;00m\n\u001b[0;32m----> 7\u001b[0m \u001b[43mtrain\u001b[49m\u001b[43m(\u001b[49m\u001b[43mdata\u001b[49m\u001b[43m,\u001b[49m\u001b[43m \u001b[49m\u001b[43mmodel\u001b[49m\u001b[43m,\u001b[49m\u001b[43m \u001b[49m\u001b[43mcriterion\u001b[49m\u001b[43m,\u001b[49m\u001b[43m \u001b[49m\u001b[43moptimizer\u001b[49m\u001b[43m)\u001b[49m \u001b[38;5;66;03m# 训练\u001b[39;00m\n\u001b[1;32m      8\u001b[0m \u001b[38;5;28mprint\u001b[39m(\u001b[38;5;124mf\u001b[39m\u001b[38;5;124m\"\u001b[39m\u001b[38;5;124m<<<<<<< finished train, cost \u001b[39m\u001b[38;5;132;01m{\u001b[39;00mtime\u001b[38;5;241m.\u001b[39mtime()\u001b[38;5;241m-\u001b[39mtrain_start\u001b[38;5;132;01m:\u001b[39;00m\u001b[38;5;124m.4f\u001b[39m\u001b[38;5;132;01m}\u001b[39;00m\u001b[38;5;124m seconds\u001b[39m\u001b[38;5;124m\"\u001b[39m)\n",
      "Cell \u001b[0;32mIn[115], line 13\u001b[0m, in \u001b[0;36mtrain\u001b[0;34m(data, model, criterion, optimizer)\u001b[0m\n\u001b[1;32m     11\u001b[0m \u001b[38;5;28;01mfor\u001b[39;00m epoch \u001b[38;5;129;01min\u001b[39;00m \u001b[38;5;28mrange\u001b[39m(EPOCHS):\n\u001b[1;32m     12\u001b[0m     model\u001b[38;5;241m.\u001b[39mtrain() \u001b[38;5;66;03m# 将模型设置为训练模式，启动dropout和batch normalization等训练特性\u001b[39;00m\n\u001b[0;32m---> 13\u001b[0m     \u001b[43mrun_epoch\u001b[49m\u001b[43m(\u001b[49m\u001b[43mdata\u001b[49m\u001b[38;5;241;43m.\u001b[39;49m\u001b[43mtrain_data\u001b[49m\u001b[43m,\u001b[49m\u001b[43m \u001b[49m\u001b[43mmodel\u001b[49m\u001b[43m,\u001b[49m\u001b[43m \u001b[49m\u001b[43mSimpleLossCompute\u001b[49m\u001b[43m(\u001b[49m\u001b[43mmodel\u001b[49m\u001b[38;5;241;43m.\u001b[39;49m\u001b[43mgenerator\u001b[49m\u001b[43m,\u001b[49m\u001b[43m \u001b[49m\u001b[43mcriterion\u001b[49m\u001b[43m,\u001b[49m\u001b[43m \u001b[49m\u001b[43moptimizer\u001b[49m\u001b[43m)\u001b[49m\u001b[43m,\u001b[49m\u001b[43m \u001b[49m\u001b[43mepoch\u001b[49m\u001b[43m)\u001b[49m\n\u001b[1;32m     14\u001b[0m     model\u001b[38;5;241m.\u001b[39meval() \u001b[38;5;66;03m# 将模式设置为评估模式，禁止dropout和batch normalization等训练特性\u001b[39;00m\n\u001b[1;32m     15\u001b[0m     \u001b[38;5;28mprint\u001b[39m(\u001b[38;5;124m'\u001b[39m\u001b[38;5;124m>>>>> Evaluate\u001b[39m\u001b[38;5;124m'\u001b[39m)\n",
      "Cell \u001b[0;32mIn[114], line 16\u001b[0m, in \u001b[0;36mrun_epoch\u001b[0;34m(data, model, loss_compute, epoch)\u001b[0m\n\u001b[1;32m     14\u001b[0m \u001b[38;5;28;01mfor\u001b[39;00m i , batch \u001b[38;5;129;01min\u001b[39;00m \u001b[38;5;28menumerate\u001b[39m(data):\n\u001b[1;32m     15\u001b[0m     out \u001b[38;5;241m=\u001b[39m model(batch\u001b[38;5;241m.\u001b[39msrc, batch\u001b[38;5;241m.\u001b[39mtrg, batch\u001b[38;5;241m.\u001b[39msrc_mask, batch\u001b[38;5;241m.\u001b[39mtrg_mask) \u001b[38;5;66;03m# Transformer输出值\u001b[39;00m\n\u001b[0;32m---> 16\u001b[0m     loss \u001b[38;5;241m=\u001b[39m \u001b[43mloss_compute\u001b[49m\u001b[43m(\u001b[49m\u001b[43mout\u001b[49m\u001b[43m,\u001b[49m\u001b[43m \u001b[49m\u001b[43mbatch\u001b[49m\u001b[38;5;241;43m.\u001b[39;49m\u001b[43mtrg_y\u001b[49m\u001b[43m,\u001b[49m\u001b[43m \u001b[49m\u001b[43mbatch\u001b[49m\u001b[38;5;241;43m.\u001b[39;49m\u001b[43mntokens\u001b[49m\u001b[43m)\u001b[49m \u001b[38;5;66;03m#计算损失，loss是SimpleLossCompute实例，callable\u001b[39;00m\n\u001b[1;32m     18\u001b[0m     total_loss \u001b[38;5;241m+\u001b[39m\u001b[38;5;241m=\u001b[39m loss\n\u001b[1;32m     19\u001b[0m     total_tokens \u001b[38;5;241m+\u001b[39m\u001b[38;5;241m=\u001b[39m batch\u001b[38;5;241m.\u001b[39mntokens\n",
      "Cell \u001b[0;32mIn[113], line 20\u001b[0m, in \u001b[0;36mSimpleLossCompute.__call__\u001b[0;34m(self, x, y, norm)\u001b[0m\n\u001b[1;32m     18\u001b[0m \u001b[38;5;28;01mif\u001b[39;00m \u001b[38;5;28mself\u001b[39m\u001b[38;5;241m.\u001b[39mopt \u001b[38;5;129;01mis\u001b[39;00m \u001b[38;5;129;01mnot\u001b[39;00m \u001b[38;5;28;01mNone\u001b[39;00m:\n\u001b[1;32m     19\u001b[0m     \u001b[38;5;28mself\u001b[39m\u001b[38;5;241m.\u001b[39mopt\u001b[38;5;241m.\u001b[39mstep()\n\u001b[0;32m---> 20\u001b[0m     \u001b[38;5;28;43mself\u001b[39;49m\u001b[38;5;241;43m.\u001b[39;49m\u001b[43mopt\u001b[49m\u001b[38;5;241;43m.\u001b[39;49m\u001b[43moptimizer\u001b[49m\u001b[38;5;241;43m.\u001b[39;49m\u001b[43mzero_grad\u001b[49m\u001b[43m(\u001b[49m\u001b[43m)\u001b[49m\n\u001b[1;32m     21\u001b[0m \u001b[38;5;28;01mreturn\u001b[39;00m loss\u001b[38;5;241m.\u001b[39mdata\u001b[38;5;241m.\u001b[39mitem() \u001b[38;5;241m*\u001b[39m norm\u001b[38;5;241m.\u001b[39mfloat()\n",
      "File \u001b[0;32m~/data/project/Kaggle/kaggle/lib/python3.10/site-packages/torch/optim/optimizer.py:241\u001b[0m, in \u001b[0;36mOptimizer.zero_grad\u001b[0;34m(self, set_to_none)\u001b[0m\n\u001b[1;32m    239\u001b[0m \u001b[38;5;28;01mfor\u001b[39;00m p \u001b[38;5;129;01min\u001b[39;00m group[\u001b[38;5;124m'\u001b[39m\u001b[38;5;124mparams\u001b[39m\u001b[38;5;124m'\u001b[39m]:\n\u001b[1;32m    240\u001b[0m     \u001b[38;5;28;01mif\u001b[39;00m p\u001b[38;5;241m.\u001b[39mgrad \u001b[38;5;129;01mis\u001b[39;00m \u001b[38;5;129;01mnot\u001b[39;00m \u001b[38;5;28;01mNone\u001b[39;00m:\n\u001b[0;32m--> 241\u001b[0m         \u001b[38;5;28;01mif\u001b[39;00m set_to_none:\n\u001b[1;32m    242\u001b[0m             p\u001b[38;5;241m.\u001b[39mgrad \u001b[38;5;241m=\u001b[39m \u001b[38;5;28;01mNone\u001b[39;00m\n\u001b[1;32m    243\u001b[0m         \u001b[38;5;28;01melse\u001b[39;00m:\n",
      "\u001b[0;31mKeyboardInterrupt\u001b[0m: "
     ]
    }
   ],
   "source": [
    "# 训练：\n",
    "print(\">>>>>>> start train\")\n",
    "train_start = time.time() # 记录开始训练的时间\n",
    "criterion = LabelSmoothing(tgt_vocab, padding_idx = 0, smoothing= 0.0) # LabelSmoothing实例\n",
    "optimizer = NoamOpt(D_MODEL, 1, 2000, torch.optim.Adam(model.parameters(), lr=0, betas=(0.9,0.98), eps=1e-9)) # 优化器NoamOpt实例\n",
    "\n",
    "train(data, model, criterion, optimizer) # 训练\n",
    "print(f\"<<<<<<< finished train, cost {time.time()-train_start:.4f} seconds\") # 打印训练总时间"
   ]
  },
  {
   "cell_type": "markdown",
   "id": "be7933b4-6b54-42d7-86a1-32f85c9e3a22",
   "metadata": {},
   "source": [
    "---"
   ]
  },
  {
   "cell_type": "markdown",
   "id": "4cad2c87-ff6f-423c-9c2f-cdf3a64210a6",
   "metadata": {},
   "source": [
    "---"
   ]
  },
  {
   "cell_type": "code",
   "execution_count": 117,
   "id": "743a0dba-8893-4c01-afc0-db71af4d3c3a",
   "metadata": {},
   "outputs": [],
   "source": [
    "# 贪婪解码(greedy decoding)算法，生成序列：\n",
    "def greedy_decode(model, src, src_mask, max_len, start_symbol):\n",
    "    memory = model.encode(src, src_mask)\n",
    "    ys = torch.ones(1, 1).fill_(start_symbol).type_as(src.data)\n",
    "    for i in range(max_len-1):\n",
    "        out = model.decode(memory, \n",
    "                           src_mask, \n",
    "                           Variable(ys), \n",
    "                           Variable(subsequent_mask(ys.size(1)).type_as(src.data)))\n",
    "        prob = model.generator(out[:, -1])\n",
    "        _, next_word = torch.max(prob, dim = 1)\n",
    "        next_word = next_word.data[0]\n",
    "        ys = torch.cat([ys, \n",
    "                        torch.ones(1, 1).type_as(src.data).fill_(next_word)], dim=1)\n",
    "    return ys"
   ]
  },
  {
   "cell_type": "markdown",
   "id": "328cd5a2-2988-44d0-aadd-3959a1c13b09",
   "metadata": {},
   "source": [
    "---"
   ]
  },
  {
   "cell_type": "markdown",
   "id": "512931d0-2e98-4f52-ad5b-9c6d537ea3bc",
   "metadata": {},
   "source": [
    "---"
   ]
  },
  {
   "cell_type": "code",
   "execution_count": 118,
   "id": "10885339-779a-44c9-a981-8c24ea969de6",
   "metadata": {},
   "outputs": [],
   "source": [
    "# 评估函数：\n",
    "def evaluate(data, model):\n",
    "    with torch.no_grad():\n",
    "        for i in range(len(data.dev_en)):\n",
    "            en_sent = \" \".join([data.en_index_dict[w] for w in  data.dev_en[i]])\n",
    "            print(\"\\n\" + en_sent)\n",
    "            cn_sent = \" \".join([data.cn_index_dict[w] for w in  data.dev_cn[i]])\n",
    "            print(\"\".join(cn_sent))\n",
    "            src = torch.from_numpy(np.array(data.dev_en[i])).long().to(DEVICE)\n",
    "            src = src.unsqueeze(0)\n",
    "            src_mask = (src != 0).unsqueeze(-2)\n",
    "            out = greedy_decode(model, src, src_mask, max_len=MAX_LENGTH, start_symbol=data.cn_word_dict[\"BOS\"])\n",
    "            translation = []\n",
    "            for j in range(1, out.size(1)):\n",
    "                sym = data.cn_index_dict[out[0, j].item()]\n",
    "                if sym != 'EOS':\n",
    "                    translation.append(sym)\n",
    "                else:\n",
    "                    break\n",
    "            print(\"translation: %s\" % \" \".join(translation))"
   ]
  },
  {
   "cell_type": "markdown",
   "id": "ea36c348-7095-4b68-b266-562b19428df4",
   "metadata": {},
   "source": [
    "---"
   ]
  },
  {
   "cell_type": "markdown",
   "id": "ff52c70f-2905-41dc-96bf-fb91a3c86bdb",
   "metadata": {},
   "source": [
    "---"
   ]
  },
  {
   "cell_type": "code",
   "execution_count": 119,
   "id": "47d3dd12-d7da-49ce-8095-bd552083c0d6",
   "metadata": {},
   "outputs": [
    {
     "data": {
      "text/plain": [
       "<All keys matched successfully>"
      ]
     },
     "execution_count": 119,
     "metadata": {},
     "output_type": "execute_result"
    }
   ],
   "source": [
    "# 加载模型\n",
    "model.load_state_dict(torch.load(SAVE_FILE))"
   ]
  },
  {
   "cell_type": "markdown",
   "id": "41abf17b-0e5a-4e26-8ae7-48d599dc1317",
   "metadata": {},
   "source": [
    "---"
   ]
  },
  {
   "cell_type": "markdown",
   "id": "2284338f-0f2f-4406-8a62-d5a4620af5b5",
   "metadata": {},
   "source": [
    "---"
   ]
  },
  {
   "cell_type": "code",
   "execution_count": 120,
   "id": "840724fd-bd37-45a8-b530-d47619812bf7",
   "metadata": {},
   "outputs": [
    {
     "name": "stdout",
     "output_type": "stream",
     "text": [
      ">>>>>>> start evaluate\n",
      "\n",
      "BOS Hi . EOS\n",
      "BOS 嗨 。 EOS\n",
      "translation: \n",
      "\n",
      "BOS Hi . EOS\n",
      "BOS 你 好 。 EOS\n",
      "translation: 的 的 的 的\n",
      "\n",
      "BOS Run . EOS\n",
      "BOS 你 用 跑 的 。 EOS\n",
      "translation: 我 的 的 的 的 的\n",
      "\n",
      "BOS Stop ! EOS\n",
      "BOS 住 手 ！ EOS\n",
      "translation: \n",
      "\n",
      "BOS Wait ! EOS\n",
      "BOS 等 等 ！ EOS\n",
      "translation: 我\n",
      "\n",
      "BOS Wait ! EOS\n",
      "BOS 等 一 下 ！ EOS\n",
      "translation: 我 的 的 的 的 的 的 的 的\n",
      "\n",
      "BOS Begin . EOS\n",
      "BOS 开 始 ！ EOS\n",
      "translation: 我 的 的 的 的\n",
      "\n",
      "BOS Hello ! EOS\n",
      "BOS 你 好 。 EOS\n",
      "translation: 我 的 的 的 的 的 的 的 的\n",
      "\n",
      "BOS UNK ! EOS\n",
      "BOS 乾 杯 ! EOS\n",
      "translation: \n",
      "\n",
      "BOS Listen . EOS\n",
      "BOS 听 着 。 EOS\n",
      "translation: 我 的 的 的 的\n",
      "\n",
      "BOS Really ? EOS\n",
      "BOS 真 的 ？ EOS\n",
      "translation: \n",
      "\n",
      "BOS Really ? EOS\n",
      "BOS 你 确 定 ？ EOS\n"
     ]
    },
    {
     "ename": "KeyboardInterrupt",
     "evalue": "",
     "output_type": "error",
     "traceback": [
      "\u001b[0;31m---------------------------------------------------------------------------\u001b[0m",
      "\u001b[0;31mKeyboardInterrupt\u001b[0m                         Traceback (most recent call last)",
      "Cell \u001b[0;32mIn[120], line 4\u001b[0m\n\u001b[1;32m      2\u001b[0m \u001b[38;5;28mprint\u001b[39m(\u001b[38;5;124m\"\u001b[39m\u001b[38;5;124m>>>>>>> start evaluate\u001b[39m\u001b[38;5;124m\"\u001b[39m)\n\u001b[1;32m      3\u001b[0m evaluate_start  \u001b[38;5;241m=\u001b[39m time\u001b[38;5;241m.\u001b[39mtime()\n\u001b[0;32m----> 4\u001b[0m \u001b[43mevaluate\u001b[49m\u001b[43m(\u001b[49m\u001b[43mdata\u001b[49m\u001b[43m,\u001b[49m\u001b[43m \u001b[49m\u001b[43mmodel\u001b[49m\u001b[43m)\u001b[49m         \n\u001b[1;32m      5\u001b[0m \u001b[38;5;28mprint\u001b[39m(\u001b[38;5;124mf\u001b[39m\u001b[38;5;124m\"\u001b[39m\u001b[38;5;124m<<<<<<< finished evaluate, cost \u001b[39m\u001b[38;5;132;01m{\u001b[39;00mtime\u001b[38;5;241m.\u001b[39mtime()\u001b[38;5;241m-\u001b[39mevaluate_start\u001b[38;5;132;01m:\u001b[39;00m\u001b[38;5;124m.4f\u001b[39m\u001b[38;5;132;01m}\u001b[39;00m\u001b[38;5;124m seconds\u001b[39m\u001b[38;5;124m\"\u001b[39m)\n",
      "Cell \u001b[0;32mIn[118], line 12\u001b[0m, in \u001b[0;36mevaluate\u001b[0;34m(data, model)\u001b[0m\n\u001b[1;32m     10\u001b[0m src \u001b[38;5;241m=\u001b[39m src\u001b[38;5;241m.\u001b[39munsqueeze(\u001b[38;5;241m0\u001b[39m)\n\u001b[1;32m     11\u001b[0m src_mask \u001b[38;5;241m=\u001b[39m (src \u001b[38;5;241m!=\u001b[39m \u001b[38;5;241m0\u001b[39m)\u001b[38;5;241m.\u001b[39munsqueeze(\u001b[38;5;241m-\u001b[39m\u001b[38;5;241m2\u001b[39m)\n\u001b[0;32m---> 12\u001b[0m out \u001b[38;5;241m=\u001b[39m \u001b[43mgreedy_decode\u001b[49m\u001b[43m(\u001b[49m\u001b[43mmodel\u001b[49m\u001b[43m,\u001b[49m\u001b[43m \u001b[49m\u001b[43msrc\u001b[49m\u001b[43m,\u001b[49m\u001b[43m \u001b[49m\u001b[43msrc_mask\u001b[49m\u001b[43m,\u001b[49m\u001b[43m \u001b[49m\u001b[43mmax_len\u001b[49m\u001b[38;5;241;43m=\u001b[39;49m\u001b[43mMAX_LENGTH\u001b[49m\u001b[43m,\u001b[49m\u001b[43m \u001b[49m\u001b[43mstart_symbol\u001b[49m\u001b[38;5;241;43m=\u001b[39;49m\u001b[43mdata\u001b[49m\u001b[38;5;241;43m.\u001b[39;49m\u001b[43mcn_word_dict\u001b[49m\u001b[43m[\u001b[49m\u001b[38;5;124;43m\"\u001b[39;49m\u001b[38;5;124;43mBOS\u001b[39;49m\u001b[38;5;124;43m\"\u001b[39;49m\u001b[43m]\u001b[49m\u001b[43m)\u001b[49m\n\u001b[1;32m     13\u001b[0m translation \u001b[38;5;241m=\u001b[39m []\n\u001b[1;32m     14\u001b[0m \u001b[38;5;28;01mfor\u001b[39;00m j \u001b[38;5;129;01min\u001b[39;00m \u001b[38;5;28mrange\u001b[39m(\u001b[38;5;241m1\u001b[39m, out\u001b[38;5;241m.\u001b[39msize(\u001b[38;5;241m1\u001b[39m)):\n",
      "Cell \u001b[0;32mIn[117], line 6\u001b[0m, in \u001b[0;36mgreedy_decode\u001b[0;34m(model, src, src_mask, max_len, start_symbol)\u001b[0m\n\u001b[1;32m      4\u001b[0m ys \u001b[38;5;241m=\u001b[39m torch\u001b[38;5;241m.\u001b[39mones(\u001b[38;5;241m1\u001b[39m, \u001b[38;5;241m1\u001b[39m)\u001b[38;5;241m.\u001b[39mfill_(start_symbol)\u001b[38;5;241m.\u001b[39mtype_as(src\u001b[38;5;241m.\u001b[39mdata)\n\u001b[1;32m      5\u001b[0m \u001b[38;5;28;01mfor\u001b[39;00m i \u001b[38;5;129;01min\u001b[39;00m \u001b[38;5;28mrange\u001b[39m(max_len\u001b[38;5;241m-\u001b[39m\u001b[38;5;241m1\u001b[39m):\n\u001b[0;32m----> 6\u001b[0m     out \u001b[38;5;241m=\u001b[39m \u001b[43mmodel\u001b[49m\u001b[38;5;241;43m.\u001b[39;49m\u001b[43mdecode\u001b[49m\u001b[43m(\u001b[49m\u001b[43mmemory\u001b[49m\u001b[43m,\u001b[49m\u001b[43m \u001b[49m\n\u001b[1;32m      7\u001b[0m \u001b[43m                       \u001b[49m\u001b[43msrc_mask\u001b[49m\u001b[43m,\u001b[49m\u001b[43m \u001b[49m\n\u001b[1;32m      8\u001b[0m \u001b[43m                       \u001b[49m\u001b[43mVariable\u001b[49m\u001b[43m(\u001b[49m\u001b[43mys\u001b[49m\u001b[43m)\u001b[49m\u001b[43m,\u001b[49m\u001b[43m \u001b[49m\n\u001b[1;32m      9\u001b[0m \u001b[43m                       \u001b[49m\u001b[43mVariable\u001b[49m\u001b[43m(\u001b[49m\u001b[43msubsequent_mask\u001b[49m\u001b[43m(\u001b[49m\u001b[43mys\u001b[49m\u001b[38;5;241;43m.\u001b[39;49m\u001b[43msize\u001b[49m\u001b[43m(\u001b[49m\u001b[38;5;241;43m1\u001b[39;49m\u001b[43m)\u001b[49m\u001b[43m)\u001b[49m\u001b[38;5;241;43m.\u001b[39;49m\u001b[43mtype_as\u001b[49m\u001b[43m(\u001b[49m\u001b[43msrc\u001b[49m\u001b[38;5;241;43m.\u001b[39;49m\u001b[43mdata\u001b[49m\u001b[43m)\u001b[49m\u001b[43m)\u001b[49m\u001b[43m)\u001b[49m\n\u001b[1;32m     10\u001b[0m     prob \u001b[38;5;241m=\u001b[39m model\u001b[38;5;241m.\u001b[39mgenerator(out[:, \u001b[38;5;241m-\u001b[39m\u001b[38;5;241m1\u001b[39m])\n\u001b[1;32m     11\u001b[0m     _, next_word \u001b[38;5;241m=\u001b[39m torch\u001b[38;5;241m.\u001b[39mmax(prob, dim \u001b[38;5;241m=\u001b[39m \u001b[38;5;241m1\u001b[39m)\n",
      "Cell \u001b[0;32mIn[108], line 15\u001b[0m, in \u001b[0;36mTransformer.decode\u001b[0;34m(self, memory, src_mask, tgt, tgt_mask)\u001b[0m\n\u001b[1;32m     14\u001b[0m \u001b[38;5;28;01mdef\u001b[39;00m \u001b[38;5;21mdecode\u001b[39m(\u001b[38;5;28mself\u001b[39m, memory, src_mask, tgt, tgt_mask):\n\u001b[0;32m---> 15\u001b[0m     \u001b[38;5;28;01mreturn\u001b[39;00m \u001b[38;5;28;43mself\u001b[39;49m\u001b[38;5;241;43m.\u001b[39;49m\u001b[43mdecoder\u001b[49m\u001b[43m(\u001b[49m\u001b[38;5;28;43mself\u001b[39;49m\u001b[38;5;241;43m.\u001b[39;49m\u001b[43mtgt_embed\u001b[49m\u001b[43m(\u001b[49m\u001b[43mtgt\u001b[49m\u001b[43m)\u001b[49m\u001b[43m,\u001b[49m\u001b[43m \u001b[49m\u001b[43mmemory\u001b[49m\u001b[43m,\u001b[49m\u001b[43m \u001b[49m\u001b[43msrc_mask\u001b[49m\u001b[43m,\u001b[49m\u001b[43m \u001b[49m\u001b[43mtgt_mask\u001b[49m\u001b[43m)\u001b[49m\n",
      "File \u001b[0;32m~/data/project/Kaggle/kaggle/lib/python3.10/site-packages/torch/nn/modules/module.py:1130\u001b[0m, in \u001b[0;36mModule._call_impl\u001b[0;34m(self, *input, **kwargs)\u001b[0m\n\u001b[1;32m   1126\u001b[0m \u001b[38;5;66;03m# If we don't have any hooks, we want to skip the rest of the logic in\u001b[39;00m\n\u001b[1;32m   1127\u001b[0m \u001b[38;5;66;03m# this function, and just call forward.\u001b[39;00m\n\u001b[1;32m   1128\u001b[0m \u001b[38;5;28;01mif\u001b[39;00m \u001b[38;5;129;01mnot\u001b[39;00m (\u001b[38;5;28mself\u001b[39m\u001b[38;5;241m.\u001b[39m_backward_hooks \u001b[38;5;129;01mor\u001b[39;00m \u001b[38;5;28mself\u001b[39m\u001b[38;5;241m.\u001b[39m_forward_hooks \u001b[38;5;129;01mor\u001b[39;00m \u001b[38;5;28mself\u001b[39m\u001b[38;5;241m.\u001b[39m_forward_pre_hooks \u001b[38;5;129;01mor\u001b[39;00m _global_backward_hooks\n\u001b[1;32m   1129\u001b[0m         \u001b[38;5;129;01mor\u001b[39;00m _global_forward_hooks \u001b[38;5;129;01mor\u001b[39;00m _global_forward_pre_hooks):\n\u001b[0;32m-> 1130\u001b[0m     \u001b[38;5;28;01mreturn\u001b[39;00m \u001b[43mforward_call\u001b[49m\u001b[43m(\u001b[49m\u001b[38;5;241;43m*\u001b[39;49m\u001b[38;5;28;43minput\u001b[39;49m\u001b[43m,\u001b[49m\u001b[43m \u001b[49m\u001b[38;5;241;43m*\u001b[39;49m\u001b[38;5;241;43m*\u001b[39;49m\u001b[43mkwargs\u001b[49m\u001b[43m)\u001b[49m\n\u001b[1;32m   1131\u001b[0m \u001b[38;5;66;03m# Do not call functions when jit is used\u001b[39;00m\n\u001b[1;32m   1132\u001b[0m full_backward_hooks, non_full_backward_hooks \u001b[38;5;241m=\u001b[39m [], []\n",
      "Cell \u001b[0;32mIn[107], line 9\u001b[0m, in \u001b[0;36mDecoder.forward\u001b[0;34m(self, x, memory, src_mask, tgt_mask)\u001b[0m\n\u001b[1;32m      7\u001b[0m \u001b[38;5;28;01mdef\u001b[39;00m \u001b[38;5;21mforward\u001b[39m(\u001b[38;5;28mself\u001b[39m, x, memory, src_mask, tgt_mask):\n\u001b[1;32m      8\u001b[0m     \u001b[38;5;28;01mfor\u001b[39;00m layer \u001b[38;5;129;01min\u001b[39;00m \u001b[38;5;28mself\u001b[39m\u001b[38;5;241m.\u001b[39mlayers:\n\u001b[0;32m----> 9\u001b[0m         x \u001b[38;5;241m=\u001b[39m \u001b[43mlayer\u001b[49m\u001b[43m(\u001b[49m\u001b[43mx\u001b[49m\u001b[43m,\u001b[49m\u001b[43m \u001b[49m\u001b[43mmemory\u001b[49m\u001b[43m,\u001b[49m\u001b[43m \u001b[49m\u001b[43msrc_mask\u001b[49m\u001b[43m,\u001b[49m\u001b[43m \u001b[49m\u001b[43mtgt_mask\u001b[49m\u001b[43m)\u001b[49m\n\u001b[1;32m     10\u001b[0m     \u001b[38;5;28;01mreturn\u001b[39;00m x\n",
      "File \u001b[0;32m~/data/project/Kaggle/kaggle/lib/python3.10/site-packages/torch/nn/modules/module.py:1130\u001b[0m, in \u001b[0;36mModule._call_impl\u001b[0;34m(self, *input, **kwargs)\u001b[0m\n\u001b[1;32m   1126\u001b[0m \u001b[38;5;66;03m# If we don't have any hooks, we want to skip the rest of the logic in\u001b[39;00m\n\u001b[1;32m   1127\u001b[0m \u001b[38;5;66;03m# this function, and just call forward.\u001b[39;00m\n\u001b[1;32m   1128\u001b[0m \u001b[38;5;28;01mif\u001b[39;00m \u001b[38;5;129;01mnot\u001b[39;00m (\u001b[38;5;28mself\u001b[39m\u001b[38;5;241m.\u001b[39m_backward_hooks \u001b[38;5;129;01mor\u001b[39;00m \u001b[38;5;28mself\u001b[39m\u001b[38;5;241m.\u001b[39m_forward_hooks \u001b[38;5;129;01mor\u001b[39;00m \u001b[38;5;28mself\u001b[39m\u001b[38;5;241m.\u001b[39m_forward_pre_hooks \u001b[38;5;129;01mor\u001b[39;00m _global_backward_hooks\n\u001b[1;32m   1129\u001b[0m         \u001b[38;5;129;01mor\u001b[39;00m _global_forward_hooks \u001b[38;5;129;01mor\u001b[39;00m _global_forward_pre_hooks):\n\u001b[0;32m-> 1130\u001b[0m     \u001b[38;5;28;01mreturn\u001b[39;00m \u001b[43mforward_call\u001b[49m\u001b[43m(\u001b[49m\u001b[38;5;241;43m*\u001b[39;49m\u001b[38;5;28;43minput\u001b[39;49m\u001b[43m,\u001b[49m\u001b[43m \u001b[49m\u001b[38;5;241;43m*\u001b[39;49m\u001b[38;5;241;43m*\u001b[39;49m\u001b[43mkwargs\u001b[49m\u001b[43m)\u001b[49m\n\u001b[1;32m   1131\u001b[0m \u001b[38;5;66;03m# Do not call functions when jit is used\u001b[39;00m\n\u001b[1;32m   1132\u001b[0m full_backward_hooks, non_full_backward_hooks \u001b[38;5;241m=\u001b[39m [], []\n",
      "Cell \u001b[0;32mIn[106], line 15\u001b[0m, in \u001b[0;36mDecoderLayer.forward\u001b[0;34m(self, x, memory, src_mask, tgt_mask)\u001b[0m\n\u001b[1;32m     13\u001b[0m x \u001b[38;5;241m=\u001b[39m \u001b[38;5;28mself\u001b[39m\u001b[38;5;241m.\u001b[39msublayer[\u001b[38;5;241m0\u001b[39m](x, \u001b[38;5;28;01mlambda\u001b[39;00m x: \u001b[38;5;28mself\u001b[39m\u001b[38;5;241m.\u001b[39mself_attn(x, x, x, tgt_mask))\n\u001b[1;32m     14\u001b[0m x \u001b[38;5;241m=\u001b[39m \u001b[38;5;28mself\u001b[39m\u001b[38;5;241m.\u001b[39msublayer[\u001b[38;5;241m1\u001b[39m](x, \u001b[38;5;28;01mlambda\u001b[39;00m x: \u001b[38;5;28mself\u001b[39m\u001b[38;5;241m.\u001b[39msrc_attn(x, m, m, src_mask))\n\u001b[0;32m---> 15\u001b[0m \u001b[38;5;28;01mreturn\u001b[39;00m \u001b[38;5;28;43mself\u001b[39;49m\u001b[38;5;241;43m.\u001b[39;49m\u001b[43msublayer\u001b[49m\u001b[43m[\u001b[49m\u001b[38;5;241;43m2\u001b[39;49m\u001b[43m]\u001b[49m\u001b[43m(\u001b[49m\u001b[43mx\u001b[49m\u001b[43m,\u001b[49m\u001b[43m \u001b[49m\u001b[38;5;28;43mself\u001b[39;49m\u001b[38;5;241;43m.\u001b[39;49m\u001b[43mfeed_forward\u001b[49m\u001b[43m)\u001b[49m\n",
      "File \u001b[0;32m~/data/project/Kaggle/kaggle/lib/python3.10/site-packages/torch/nn/modules/module.py:1130\u001b[0m, in \u001b[0;36mModule._call_impl\u001b[0;34m(self, *input, **kwargs)\u001b[0m\n\u001b[1;32m   1126\u001b[0m \u001b[38;5;66;03m# If we don't have any hooks, we want to skip the rest of the logic in\u001b[39;00m\n\u001b[1;32m   1127\u001b[0m \u001b[38;5;66;03m# this function, and just call forward.\u001b[39;00m\n\u001b[1;32m   1128\u001b[0m \u001b[38;5;28;01mif\u001b[39;00m \u001b[38;5;129;01mnot\u001b[39;00m (\u001b[38;5;28mself\u001b[39m\u001b[38;5;241m.\u001b[39m_backward_hooks \u001b[38;5;129;01mor\u001b[39;00m \u001b[38;5;28mself\u001b[39m\u001b[38;5;241m.\u001b[39m_forward_hooks \u001b[38;5;129;01mor\u001b[39;00m \u001b[38;5;28mself\u001b[39m\u001b[38;5;241m.\u001b[39m_forward_pre_hooks \u001b[38;5;129;01mor\u001b[39;00m _global_backward_hooks\n\u001b[1;32m   1129\u001b[0m         \u001b[38;5;129;01mor\u001b[39;00m _global_forward_hooks \u001b[38;5;129;01mor\u001b[39;00m _global_forward_pre_hooks):\n\u001b[0;32m-> 1130\u001b[0m     \u001b[38;5;28;01mreturn\u001b[39;00m \u001b[43mforward_call\u001b[49m\u001b[43m(\u001b[49m\u001b[38;5;241;43m*\u001b[39;49m\u001b[38;5;28;43minput\u001b[39;49m\u001b[43m,\u001b[49m\u001b[43m \u001b[49m\u001b[38;5;241;43m*\u001b[39;49m\u001b[38;5;241;43m*\u001b[39;49m\u001b[43mkwargs\u001b[49m\u001b[43m)\u001b[49m\n\u001b[1;32m   1131\u001b[0m \u001b[38;5;66;03m# Do not call functions when jit is used\u001b[39;00m\n\u001b[1;32m   1132\u001b[0m full_backward_hooks, non_full_backward_hooks \u001b[38;5;241m=\u001b[39m [], []\n",
      "Cell \u001b[0;32mIn[100], line 9\u001b[0m, in \u001b[0;36mSublayerConnection.forward\u001b[0;34m(self, x, sublayer)\u001b[0m\n\u001b[1;32m      8\u001b[0m \u001b[38;5;28;01mdef\u001b[39;00m \u001b[38;5;21mforward\u001b[39m(\u001b[38;5;28mself\u001b[39m, x, sublayer):\n\u001b[0;32m----> 9\u001b[0m     \u001b[38;5;28;01mreturn\u001b[39;00m \u001b[38;5;28mself\u001b[39m\u001b[38;5;241m.\u001b[39mdropout(\u001b[38;5;28;43mself\u001b[39;49m\u001b[38;5;241;43m.\u001b[39;49m\u001b[43mnorm\u001b[49m\u001b[43m(\u001b[49m\u001b[43mx\u001b[49m\u001b[38;5;241;43m+\u001b[39;49m\u001b[43msublayer\u001b[49m\u001b[43m(\u001b[49m\u001b[43mx\u001b[49m\u001b[43m)\u001b[49m\u001b[43m)\u001b[49m)\n",
      "File \u001b[0;32m~/data/project/Kaggle/kaggle/lib/python3.10/site-packages/torch/nn/modules/module.py:1124\u001b[0m, in \u001b[0;36mModule._call_impl\u001b[0;34m(self, *input, **kwargs)\u001b[0m\n\u001b[1;32m   1121\u001b[0m             tracing_state\u001b[38;5;241m.\u001b[39mpop_scope()\n\u001b[1;32m   1122\u001b[0m     \u001b[38;5;28;01mreturn\u001b[39;00m result\n\u001b[0;32m-> 1124\u001b[0m \u001b[38;5;28;01mdef\u001b[39;00m \u001b[38;5;21m_call_impl\u001b[39m(\u001b[38;5;28mself\u001b[39m, \u001b[38;5;241m*\u001b[39m\u001b[38;5;28minput\u001b[39m, \u001b[38;5;241m*\u001b[39m\u001b[38;5;241m*\u001b[39mkwargs):\n\u001b[1;32m   1125\u001b[0m     forward_call \u001b[38;5;241m=\u001b[39m (\u001b[38;5;28mself\u001b[39m\u001b[38;5;241m.\u001b[39m_slow_forward \u001b[38;5;28;01mif\u001b[39;00m torch\u001b[38;5;241m.\u001b[39m_C\u001b[38;5;241m.\u001b[39m_get_tracing_state() \u001b[38;5;28;01melse\u001b[39;00m \u001b[38;5;28mself\u001b[39m\u001b[38;5;241m.\u001b[39mforward)\n\u001b[1;32m   1126\u001b[0m     \u001b[38;5;66;03m# If we don't have any hooks, we want to skip the rest of the logic in\u001b[39;00m\n\u001b[1;32m   1127\u001b[0m     \u001b[38;5;66;03m# this function, and just call forward.\u001b[39;00m\n",
      "\u001b[0;31mKeyboardInterrupt\u001b[0m: "
     ]
    }
   ],
   "source": [
    "# 评估：\n",
    "print(\">>>>>>> start evaluate\")\n",
    "evaluate_start  = time.time()\n",
    "evaluate(data, model)         \n",
    "print(f\"<<<<<<< finished evaluate, cost {time.time()-evaluate_start:.4f} seconds\")"
   ]
  },
  {
   "cell_type": "code",
   "execution_count": null,
   "id": "2bc41b41-715a-4cd2-b307-15a6ede0f715",
   "metadata": {},
   "outputs": [],
   "source": []
  },
  {
   "cell_type": "code",
   "execution_count": null,
   "id": "b449437e-b438-4ffb-b5ff-c2a3402077ff",
   "metadata": {},
   "outputs": [],
   "source": []
  }
 ],
 "metadata": {
  "kernelspec": {
   "display_name": "Python 3 (ipykernel)",
   "language": "python",
   "name": "python3"
  },
  "language_info": {
   "codemirror_mode": {
    "name": "ipython",
    "version": 3
   },
   "file_extension": ".py",
   "mimetype": "text/x-python",
   "name": "python",
   "nbconvert_exporter": "python",
   "pygments_lexer": "ipython3",
   "version": "3.10.14"
  }
 },
 "nbformat": 4,
 "nbformat_minor": 5
}
